{
 "cells": [
  {
   "metadata": {
    "collapsed": true
   },
   "cell_type": "markdown",
   "source": [
    "## 2. 코틀린 기초\n",
    "\n",
    "> 코틀린 코드에 대해 논의하다보면 코틀린스러운(idiomatic Kotlin)이라는 말을 자주 접하게 된다. 이런 코드는 숙어(idiom)들로 이루어지고,\n",
    "> 이 숙어들은 해결하려는 문제를 '코틀린의 방법'으로 처리하려는 식별 가능한 구조들이다.\n"
   ]
  },
  {
   "metadata": {},
   "cell_type": "markdown",
   "source": "### 함수와 변수"
  },
  {
   "metadata": {
    "ExecuteTime": {
     "end_time": "2025-10-27T13:24:43.269912Z",
     "start_time": "2025-10-27T13:24:43.145609300Z"
    }
   },
   "cell_type": "code",
   "source": [
    "fun main() {\n",
    "    println(\"hello world!\")\n",
    "}\n",
    "\n",
    "main()"
   ],
   "outputs": [
    {
     "name": "stdout",
     "output_type": "stream",
     "text": [
      "hello world!\r\n"
     ]
    }
   ],
   "execution_count": 1
  },
  {
   "metadata": {},
   "cell_type": "markdown",
   "source": [
    "지금까지 보았듯이 코틀린에서는 함수를 모든 코틀린파일(.kt)의 최상위 수준에 정의할 수 있다. 즉 클래스 안에 함수를 넣어야 할 필요가 없다.\n",
    "> 그러나 알기로는 익명 클래스가 생성되므로, 엄밀히 '함수'는 아닌 '함수'처럼 보이는 메서드이다.\n",
    "\n",
    "코틀린에서는 최상위에 있는 main함수를 애플리케이션의 진입점으로 지정할 수도 있다. 이때 **main에 인자가 없어도 된다!**\n",
    "> 실제로 없는건 아니고, 생략된 것임. 개발자가 생략할 수 있다.\n",
    "\n",
    "이 책에서는 줄 끝에 세미콜론을 붙이지 않는 것을 더 권장한다! (이유는 뒤에서 더 다룰 것이다.)\n",
    "\n",
    "코틀린에서는 `if` 가 표현식(expression)이다. 즉 분기'문'(statement)이 아니다! 코틀린에서는 루프(`for`, `whild`, `do/while`)을 제외한 **대부분의 제어구조가 표현식이다.**\n",
    "따라서 다음과 같은 코드가 가능하다."
   ]
  },
  {
   "metadata": {},
   "cell_type": "code",
   "outputs": [],
   "execution_count": null,
   "source": [
    "val x = if (true) 3 else 5\n",
    "\n",
    "val direction = when (\"up\") {\n",
    "    \"up\" -> 0\n",
    "    \"down\" -> 1\n",
    "    else -> 2\n",
    "}\n",
    "\n",
    "val number = try {\n",
    "    1.toString()\n",
    "} catch (nfe: NumberFormatException) {\n",
    "    -1\n",
    "} finally {\n",
    "    println(\"finally\")\n",
    "}"
   ]
  },
  {
   "metadata": {},
   "cell_type": "markdown",
   "source": "**반면 코틀린에서는 대입이 항상 문으로 취급된다.** 따라서 `=` 은 연산자가 아니고, 아무런 값도 반환하지 않는다."
  },
  {
   "metadata": {},
   "cell_type": "markdown",
   "source": [
    "### 식 본문\n",
    "함수를 더 간결하게 표현할 수도 있다. `max` 라는 함수의 본문이 식 `if` 하나로 이루어져있다면 이 식을 함수 본문 전체로 하고 중괄호를 없앤후, `return` 키워드를 생략할 수 있다."
   ]
  },
  {
   "metadata": {},
   "cell_type": "code",
   "outputs": [],
   "execution_count": null,
   "source": "fun max(a: Int, b: Int): Int = if (a > b) a else b"
  },
  {
   "metadata": {},
   "cell_type": "markdown",
   "source": [
    "이렇게 등호와 식으로 이루어진 함수를 표현식 본문 함수(expression body function)이라고 한다.\n",
    "반대로 바디가 중괄호로 이루어진 함수는 블록 본문 함수(block body function)라고 한다.\n",
    "\n",
    "위 코드에서 더 나아가 함수 max의 반환 타입도 생략할 수 있다."
   ]
  },
  {
   "metadata": {},
   "cell_type": "code",
   "outputs": [],
   "execution_count": null,
   "source": "fun max(a: Int, b: Int) = if (a > b) a else b"
  },
  {
   "metadata": {},
   "cell_type": "markdown",
   "source": [
    "이는 코틀린이 타입추론(type inference)를 지원하기 때문에 가능하다.\n",
    "참고로 **표현식 본문 함수의 반환 타입만 생략가능하다. 블록 함수는 반환 타입을 지정해야 한다.**\n",
    "\n",
    "이렇게 설계한이유는, 블록 함수의 경우 내부에 `return` 문이 여러개 있을 수 있기 때문에 한눈에 알아보기 쉽게 만드려는 의도가 있다고 한다."
   ]
  },
  {
   "metadata": {},
   "cell_type": "markdown",
   "source": [
    "### 코틀린의 변수 선언\n",
    "\n",
    "코틀린 변수 선언은 키워드(`var` ,`val`)로 시작하고 그 뒤에 변수 이름을 붙여서 진행한다.\n",
    "코틀린이 타입 추론을 지원하지만 물론 명시적으로 타입을 지정할수도 있다.\n",
    "\n",
    "만약 변수를 선언하면서 초기화하지 않고 나중에 값을 대입할 목적이라면 **컴파일러가 변수 타입을 추론할 수 없다.** 이 경우에는 반드시 변수의 타입을 지정해 줘야 한다.\n",
    "\n",
    "### 두 가지 변수 선언 키워드\n",
    "\n",
    "- val(value의 약자) : 읽기 전용 참조(read-only-reference)를 선언할 때 사용한다. 즉, 한 번 초기화된 후에는 값을 변경할 수 없다. 자바의 `final` 키워드와 역할이 유사함.\n",
    "- var(variable의 약자) : 재대입 가능 참조(reassignable reference)를 선언할때 사용. 이런 변수는 초기화가 이뤄진 다음이라도 다른 값 대입 가능.\n",
    "\n",
    "**기본적으로 코틀린에서는 모든 변수를 `val` 로 선언할 것을 지켜야 한다고 한다.**\n",
    "반드시 필요할 때만 변수를 `var` 로 선언하는게 코틀린의 권장사항임. 이런 원칙을 통해 함수형 프로그래밍 스타일이 제공하는 이점을 누리는게 가능해진다.\n",
    "\n",
    "**`val` 변수는 정의된 블록 실행 시점에서 정확히 한 번만 초기화 되어야 하지만**, 어떤 블록이 실행될 때 오직 한 초기화 문장만 실행됨을 컴파일러가 확인할 수 있다면,\n",
    "조건에 따라 `val` 변수를 다른 여러 값으로 초기화 되도록 할 수도 있다."
   ]
  },
  {
   "metadata": {
    "ExecuteTime": {
     "end_time": "2025-10-29T13:58:21.135881600Z",
     "start_time": "2025-10-29T13:58:21.069708500Z"
    }
   },
   "cell_type": "code",
   "source": [
    "fun canPerformOperation(): Boolean {\n",
    "    return true\n",
    "}\n",
    "\n",
    "fun main() {\n",
    "    val result: String\n",
    "    if(canPerformOperation()) {\n",
    "        result = \"success\"\n",
    "    } else {\n",
    "        result = \"failure\"\n",
    "    }\n",
    "    println(result)\n",
    "}\n",
    "\n",
    "main()"
   ],
   "outputs": [
    {
     "name": "stdout",
     "output_type": "stream",
     "text": [
      "success\r\n"
     ]
    }
   ],
   "execution_count": 2
  },
  {
   "metadata": {},
   "cell_type": "markdown",
   "source": [
    "> 위 코드에서는 val 변수를 **선언**만 하고, 동일한 블록내에서 조건에 따라 다르게 **초기화**하고 있다.\n",
    "\n",
    "참고로 `val` 자체가 읽기 전용이긴 하지만 그 참조가 가리키는 객체 내부의 값은 물론 변경될 수 있다. 메모리 주소 수준에서 생각하면 이해됨.\n",
    "\n",
    "`var` 키워드를 사용하면 변수를 재대입할 순 있지만 변수의 타입은 고정된다. 다음의 코드는 컴파일 오류를 만든다."
   ]
  },
  {
   "metadata": {},
   "cell_type": "code",
   "outputs": [],
   "execution_count": null,
   "source": [
    "fun main() {\n",
    "    var answer = 42\n",
    "    //answer = \"no answer\" // <- 컴파일 오류를 만든다.\n",
    "}"
   ]
  },
  {
   "metadata": {},
   "cell_type": "markdown",
   "source": [
    "코틀린 컴파일러는 **변수 선언 시점의 초기화 식으로부터 변수의 타입을 추론 하며**, 변수 선언 이후 재대입때는 **이미 추론한 변수의 타입을 갖고 타입을 검사하기 때문임.**\n",
    "\n",
    "따라서 어떤 변수에 다른 타입의 값을 저장하려면 변환 함수를 쓰거나, 강제 형변환(coerce)해야 한다."
   ]
  },
  {
   "metadata": {},
   "cell_type": "markdown",
   "source": [
    "### 문자열 템플릿\n",
    "다음의 예제를 보자."
   ]
  },
  {
   "metadata": {},
   "cell_type": "code",
   "outputs": [],
   "execution_count": null,
   "source": [
    "fun main() {\n",
    "    val input = readln()\n",
    "    val name = if (input.isNotBlank()) input else \"kotlin\"\n",
    "    println(\"Hello, $name!\") //문자열 템플릿\n",
    "    println(\"name length: ${name.length}\") //문자열 템플릿\n",
    "}"
   ]
  },
  {
   "metadata": {},
   "cell_type": "markdown",
   "source": "코틀린에서도 문자열 템플릿을 사용하려면 `$`을 붙이면 된다."
  }
 ],
 "metadata": {
  "kernelspec": {
   "display_name": "Kotlin",
   "language": "kotlin",
   "name": "kotlin"
  },
  "language_info": {
   "name": "kotlin",
   "version": "2.2.20-dev-4982",
   "mimetype": "text/x-kotlin",
   "file_extension": ".kt",
   "pygments_lexer": "kotlin",
   "codemirror_mode": "text/x-kotlin",
   "nbconvert_exporter": ""
  }
 },
 "nbformat": 4,
 "nbformat_minor": 0
}
