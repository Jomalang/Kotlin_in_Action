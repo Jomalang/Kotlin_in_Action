{
 "cells": [
  {
   "metadata": {
    "collapsed": true
   },
   "cell_type": "markdown",
   "source": [
    "## 2. 코틀린 기초\n",
    "\n",
    "> 코틀린 코드에 대해 논의하다보면 코틀린스러운(idiomatic Kotlin)이라는 말을 자주 접하게 된다. 이런 코드는 숙어(idiom)들로 이루어지고,\n",
    "> 이 숙어들은 해결하려는 문제를 '코틀린의 방법'으로 처리하려는 식별 가능한 구조들이다.\n"
   ]
  },
  {
   "metadata": {},
   "cell_type": "markdown",
   "source": "### 함수와 변수"
  },
  {
   "metadata": {
    "ExecuteTime": {
     "end_time": "2025-10-27T13:24:43.269912Z",
     "start_time": "2025-10-27T13:24:43.145609300Z"
    }
   },
   "cell_type": "code",
   "source": [
    "fun main() {\n",
    "    println(\"hello world!\")\n",
    "}\n",
    "\n",
    "main()"
   ],
   "outputs": [
    {
     "name": "stdout",
     "output_type": "stream",
     "text": [
      "hello world!\r\n"
     ]
    }
   ],
   "execution_count": 1
  },
  {
   "metadata": {},
   "cell_type": "markdown",
   "source": [
    "지금까지 보았듯이 코틀린에서는 함수를 모든 코틀린파일(.kt)의 최상위 수준에 정의할 수 있다. 즉 클래스 안에 함수를 넣어야 할 필요가 없다.\n",
    "> 그러나 알기로는 익명 클래스가 생성되므로, 엄밀히 '함수'는 아닌 '함수'처럼 보이는 메서드이다.\n",
    "\n",
    "코틀린에서는 최상위에 있는 main함수를 애플리케이션의 진입점으로 지정할 수도 있다. 이때 **main에 인자가 없어도 된다!**\n",
    "> 실제로 없는건 아니고, 생략된 것임. 개발자가 생략할 수 있다.\n",
    "\n",
    "이 책에서는 줄 끝에 세미콜론을 붙이지 않는 것을 더 권장한다! (이유는 뒤에서 더 다룰 것이다.)\n",
    "\n",
    "코틀린에서는 `if` 가 표현식(expression)이다. 즉 분기'문'(statement)이 아니다! 코틀린에서는 루프(`for`, `whild`, `do/while`)을 제외한 **대부분의 제어구조가 표현식이다.**\n",
    "따라서 다음과 같은 코드가 가능하다."
   ]
  },
  {
   "metadata": {},
   "cell_type": "code",
   "outputs": [],
   "execution_count": null,
   "source": [
    "val x = if (true) 3 else 5\n",
    "\n",
    "val direction = when (\"up\") {\n",
    "    \"up\" -> 0\n",
    "    \"down\" -> 1\n",
    "    else -> 2\n",
    "}\n",
    "\n",
    "val number = try {\n",
    "    1.toString()\n",
    "} catch (nfe: NumberFormatException) {\n",
    "    -1\n",
    "} finally {\n",
    "    println(\"finally\")\n",
    "}"
   ]
  },
  {
   "metadata": {},
   "cell_type": "markdown",
   "source": "**반면 코틀린에서는 대입이 항상 문으로 취급된다.** 따라서 `=` 은 연산자가 아니고, 아무런 값도 반환하지 않는다."
  }
 ],
 "metadata": {
  "kernelspec": {
   "display_name": "Kotlin",
   "language": "kotlin",
   "name": "kotlin"
  },
  "language_info": {
   "name": "kotlin",
   "version": "2.2.20-dev-4982",
   "mimetype": "text/x-kotlin",
   "file_extension": ".kt",
   "pygments_lexer": "kotlin",
   "codemirror_mode": "text/x-kotlin",
   "nbconvert_exporter": ""
  }
 },
 "nbformat": 4,
 "nbformat_minor": 0
}
